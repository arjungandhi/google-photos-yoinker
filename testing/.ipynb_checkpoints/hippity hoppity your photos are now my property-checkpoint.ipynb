{
 "cells": [
  {
   "cell_type": "code",
   "execution_count": 34,
   "id": "3252d161",
   "metadata": {},
   "outputs": [],
   "source": [
    "import requests \n",
    "import re\n",
    "import json"
   ]
  },
  {
   "cell_type": "code",
   "execution_count": 35,
   "id": "5e6f51f3",
   "metadata": {},
   "outputs": [],
   "source": [
    "album_link = \"https://photos.app.goo.gl/zQ4t5MxHmtEsA5cB8\"\n",
    "video_base = 'm134?sq=0&sq_end=1'\n",
    "google_base_url = 'https://photos.google.com/share/'"
   ]
  },
  {
   "cell_type": "code",
   "execution_count": 36,
   "id": "a9c3b6bc",
   "metadata": {},
   "outputs": [],
   "source": [
    "response = requests.get(album_link)"
   ]
  },
  {
   "cell_type": "code",
   "execution_count": 37,
   "id": "fe63135d",
   "metadata": {},
   "outputs": [],
   "source": [
    "html = response.text"
   ]
  },
  {
   "cell_type": "code",
   "execution_count": 39,
   "id": "e19458b7",
   "metadata": {},
   "outputs": [],
   "source": [
    "# getting photo albums\n",
    "expr = r'src=\"(.[^\"]*)'\n",
    "urls = re.findall(expr,html)"
   ]
  },
  {
   "cell_type": "code",
   "execution_count": 49,
   "id": "aa8593b5",
   "metadata": {},
   "outputs": [],
   "source": [
    "album_data = []\n",
    "for i, url in enumerate(urls): \n",
    "    if '=s' not in url:\n",
    "        split_url = url.split('=')\n",
    "        size = re.findall(r'\\d+', split_url[1])\n",
    "\n",
    "        media = dict(base=split_url [0],\n",
    "            video=False,\n",
    "                )\n",
    "        resp = requests.get(f'{media[\"base\"]}=dv')\n",
    "        if resp.status_code == 200:\n",
    "            media['video']=True\n",
    "\n",
    "        album_data.append(media)  \n",
    "        "
   ]
  },
  {
   "cell_type": "code",
   "execution_count": 50,
   "id": "2515b165",
   "metadata": {},
   "outputs": [
    {
     "data": {
      "text/html": [
       "<img src=\"https://lh3.googleusercontent.com/AxctHoEkizq30Cdt6rW7_zhZI8AGIGRUkgdUR5TB5CyimmmC50-YbHGB0hvw1YHCVLnHws56VnAB2XWb7CqW4JN7C_W4SB_C3sMkzj7pxTOiGfpOYbyCg2FYiXRBcrGQw1obxSA1EBA=w300-h120\">"
      ],
      "text/plain": [
       "<IPython.core.display.HTML object>"
      ]
     },
     "metadata": {},
     "output_type": "display_data"
    },
    {
     "data": {
      "text/html": [
       "<img src=\"https://lh3.googleusercontent.com/n8xYMOc1g9YGoKNjxeqY4yzcuioVB6VdutIco8ieds5s_mRft7oz1NytsbpaRqkdfErpeBmOjlWbwx_tRL46dUh6KnloTv8OWilEDRAi5R4khBkR4C8CeJY2OD6xR3kYghTBWWtD8EE=w300-h120\">"
      ],
      "text/plain": [
       "<IPython.core.display.HTML object>"
      ]
     },
     "metadata": {},
     "output_type": "display_data"
    },
    {
     "data": {
      "text/html": [
       "<img src=\"https://lh3.googleusercontent.com/Bq_xxhLfJ2kpK2gsl5MJBcCo840kJ0_GNjauRP4P2BYeMyGO1wBDuVlkoI2AiDFWKTUCkf9OdePkKeL0ulPTY-ulMdjh9owAyTxzo8liGUgn3hxPhyeTzAlayRfC0ak00N0irg9KZpo=w300-h120\">"
      ],
      "text/plain": [
       "<IPython.core.display.HTML object>"
      ]
     },
     "metadata": {},
     "output_type": "display_data"
    },
    {
     "data": {
      "text/html": [
       "<video src=\"https://lh3.googleusercontent.com/Gn4Xs0Y-MP2__1GjDc3Yg0TXXLkT-LmtCe0qjgkbpN_juo3XdWprnT-0aGwN2zeZNJcxeC8E3E23ZGZm45h4MO8od4adjsmW8Tjr1YmO_H8SSU9ZtCucuYAflJvN9T04NJ9YKBkK86Y=dv\" width=\"300\" autoplay  playsinline loop controls></video>"
      ],
      "text/plain": [
       "<IPython.core.display.HTML object>"
      ]
     },
     "metadata": {},
     "output_type": "display_data"
    },
    {
     "data": {
      "text/html": [
       "<img src=\"https://lh3.googleusercontent.com/3CYsN_XDUf6bBuvcniU6VDRrLKd1E8jrCkqoJVje4mn_w1qEmsk1Kf9MV4xN6LAQjBYEpLEf_maYmqPcL-VpARQ1Gb4iB-7DndJ3lhGlMtTgcGvGlWnMOqvSeoCMn0ziHaW7OKQ-2lw=w300-h120\">"
      ],
      "text/plain": [
       "<IPython.core.display.HTML object>"
      ]
     },
     "metadata": {},
     "output_type": "display_data"
    },
    {
     "data": {
      "text/html": [
       "<img src=\"https://lh3.googleusercontent.com/KUsjnyIU4Uzi2FW7CrzDGtnlHSklqANz8ixzpWMNHb635gfjOMZvtbxOLdquxs8ajm3SUHzZurLNbVRdrBrAct9nuPmdSDaibbb5ze1Yaq0ryBzc0-oTwudr6bXD8cZWDhikkLz7-Ds=w300-h120\">"
      ],
      "text/plain": [
       "<IPython.core.display.HTML object>"
      ]
     },
     "metadata": {},
     "output_type": "display_data"
    },
    {
     "data": {
      "text/html": [
       "<img src=\"https://lh3.googleusercontent.com/RYJFozsn0NT99Bv1Xaf8STjQprMTrmxJDHV6DFgZXcAde8SGgg8S1WXWUTyA9lbmWlEBZA5U4Au_gZxIDap0aW4XGct7XcNXXN-N4MQOzISi7TozGGuwH1b9pmGVeu_mR8D2Q7zmqeU=w300-h120\">"
      ],
      "text/plain": [
       "<IPython.core.display.HTML object>"
      ]
     },
     "metadata": {},
     "output_type": "display_data"
    },
    {
     "data": {
      "text/html": [
       "<img src=\"https://lh3.googleusercontent.com/tpRQAJf5avWl_T45hlxMetdXAvtZfNGtYeFTvKk5xEPOjckvGy31U4ageB_qQGIPlA7DhD-r8oLDxxQI_RUTzviQ2vsuB14ehDU0cVrFHyzfRZeC2Rlq71MS9jOW3whuuUz8wgmiFaQ=w300-h120\">"
      ],
      "text/plain": [
       "<IPython.core.display.HTML object>"
      ]
     },
     "metadata": {},
     "output_type": "display_data"
    },
    {
     "data": {
      "text/html": [
       "<img src=\"https://lh3.googleusercontent.com/uD8gfqS5hRj5wnVWZrW9EE3jpUGRYTTfgQMwvDYEelQ3l4ds8FS9BMO7r-ayZOTwslmVVpheWqk2kZBIIi1YshfJQ2pB4nLaLC3Rr4wyvkBoHlNz6nPd0Hya0MyfP7bOAVxD1YC4vSw=w300-h120\">"
      ],
      "text/plain": [
       "<IPython.core.display.HTML object>"
      ]
     },
     "metadata": {},
     "output_type": "display_data"
    },
    {
     "data": {
      "text/html": [
       "<img src=\"https://lh3.googleusercontent.com/TkEbkVoHSb9e2TyFy2tc7ZteSc5963r2fY8NzlHYh2kWoeHbVpF7lqdOL4htu4Ll1cVsfnfS4HPqMRcURCvgVtslx-S_GqNiylY_wtU-KPJxa8HtAvcI9Yp8QtIaR5PEN3r5c76w9ZQ=w300-h120\">"
      ],
      "text/plain": [
       "<IPython.core.display.HTML object>"
      ]
     },
     "metadata": {},
     "output_type": "display_data"
    },
    {
     "data": {
      "text/html": [
       "<img src=\"https://lh3.googleusercontent.com/m8a52V48S3m8lcYHdw7If1C-Sz9WoNR9jnGWk31gRrV9kGs5cHNDKoIiCw304QK-CbSqDz3cJo_zFWpYQnnLuLIU-Sf1DeMmRUSrEsItea8UrrXqxX16EvgM67fPCfNWX0ew87s2ZVE=w300-h120\">"
      ],
      "text/plain": [
       "<IPython.core.display.HTML object>"
      ]
     },
     "metadata": {},
     "output_type": "display_data"
    },
    {
     "data": {
      "text/html": [
       "<img src=\"https://lh3.googleusercontent.com/ytQhbNqQVZdQKnyrYrb8v_ZRsIvU3ShU_mm765nDeOM4rebZJ6a8w-6075zmss8xUsrYHnQazMCvmsbVlEoWzharcwKa-ucBb5A3rW0hx_W1pbqC0j9Arw_M5Zh2RjehPSB3TDZDnGA=w300-h120\">"
      ],
      "text/plain": [
       "<IPython.core.display.HTML object>"
      ]
     },
     "metadata": {},
     "output_type": "display_data"
    },
    {
     "data": {
      "text/html": [
       "<img src=\"https://lh3.googleusercontent.com/Bp1yXzWvKqLWyqAs4aMdvTAzk8Xp050GdAcFdeeYsNZfYI-OVio65Kk35d3_nHRxNA1jyp_ehqMbSD8HXNxs0LgAOFyMDU28032azzuigG9ZH-G6lb7Cxi_3neg2e5zGUWnWayL7BJI=w300-h120\">"
      ],
      "text/plain": [
       "<IPython.core.display.HTML object>"
      ]
     },
     "metadata": {},
     "output_type": "display_data"
    },
    {
     "data": {
      "text/html": [
       "<img src=\"https://lh3.googleusercontent.com/ubvncRD4nVPQ0PJVvKV9dLefAf-B2wJud6Hm2ObN0PjM5H-dUWSOS3h2ko0WVIPj-atgIYF77TWgPWjTmiaEiSr84Q35-b45McdSLESn1OpJtF7rNRhqQE0eZMC4G6U2IRmzbFolU6w=w300-h120\">"
      ],
      "text/plain": [
       "<IPython.core.display.HTML object>"
      ]
     },
     "metadata": {},
     "output_type": "display_data"
    },
    {
     "data": {
      "text/html": [
       "<img src=\"https://lh3.googleusercontent.com/BiKYq5xXPHT9hV5lkh9xTIWRs7jc-zrqj4Cz4qOTWJtp8tHB2ZbqSnQiF4lZUlXpkNNORiO8mJr6lt-1mDqBoQBLAcmsbwr4we5OSBO9m1zASYnS0AfY2YuVMnD5xkmiefhdJs2Vl2k=w300-h120\">"
      ],
      "text/plain": [
       "<IPython.core.display.HTML object>"
      ]
     },
     "metadata": {},
     "output_type": "display_data"
    },
    {
     "data": {
      "text/html": [
       "<img src=\"https://lh3.googleusercontent.com/q1Kdp46yxPA6sF_gEUpGLWMSyNWJrl638jjD9GEwF2ApY9p4KGla5EfGVoMp9j_-LNHznZLqp_sMqGRCmPbu6_B8u1vL0_g8sB4EXsKREaE3ATDVeeP6SMTo8fRg502FAu5pulDZzeo=w300-h120\">"
      ],
      "text/plain": [
       "<IPython.core.display.HTML object>"
      ]
     },
     "metadata": {},
     "output_type": "display_data"
    },
    {
     "data": {
      "text/html": [
       "<img src=\"https://lh3.googleusercontent.com/PVjICAHIe9A_xplVSftC-xJI2Z8jIf-oDU338dBLLaLYdOX5hWexEbihLgVWUYny_5bGqraK2iI_SHvUqPWJPM9P3oVJyvE3lZGG7raPcAQl2SiVPraE6Wk_eBhpIQe3Vx7e9-jim50=w300-h120\">"
      ],
      "text/plain": [
       "<IPython.core.display.HTML object>"
      ]
     },
     "metadata": {},
     "output_type": "display_data"
    },
    {
     "data": {
      "text/html": [
       "<img src=\"https://lh3.googleusercontent.com/Cevfd4LixqnR0mPa2W8s3eTOAePB_No7f2EJURM4Hpu-p03ejuJyGZE5ngH_6LWgqauEu3VB9KSC32eSiBn4UiheZWVtOX8faV8oMP2TQ8mccScUJ0jmKYIP61ydIs0RaC3UE-GkG00=w300-h120\">"
      ],
      "text/plain": [
       "<IPython.core.display.HTML object>"
      ]
     },
     "metadata": {},
     "output_type": "display_data"
    },
    {
     "data": {
      "text/html": [
       "<img src=\"https://lh3.googleusercontent.com/Jesc4jD4wFNu8-n5791sQnr07RviGug4EUbiin9YsyJUmciHsGLHSL6C1-GkhuGMTDzL0FB4Lng7kY4tpwjUkqxGVXZ1RX2Gh03oAlAljVUmRbnMIfQFqcXGAb9PTBxMx6o-k61S4qw=w300-h120\">"
      ],
      "text/plain": [
       "<IPython.core.display.HTML object>"
      ]
     },
     "metadata": {},
     "output_type": "display_data"
    },
    {
     "data": {
      "text/html": [
       "<img src=\"https://lh3.googleusercontent.com/avLv-s8RWMbEbE5fTJOtu9T0lOYK1EYUk5ukQsbRcg141mWvcVVyNUNlPz8yyLfA0FWPzvYQ-3eKu5fTF98VoyBuuejxQlyMr7wrYVjK-zBNoLCfQudxUPGNKhlWc21UdSeHJfr-ua4=w300-h120\">"
      ],
      "text/plain": [
       "<IPython.core.display.HTML object>"
      ]
     },
     "metadata": {},
     "output_type": "display_data"
    },
    {
     "data": {
      "text/html": [
       "<img src=\"https://lh3.googleusercontent.com/Qk8QImii5lcihWGaQOGipq3PNt3txErXxfCmvJndRf_2uWd4xPpRP842hGOjNFSY17izlD7lSi9rYTy-Ni3n8Jm1jOz7RluuB0_NHkZIdQdB4wfzs3zU4T2cpMklJx-uxIkfUHrO3Qg=w300-h120\">"
      ],
      "text/plain": [
       "<IPython.core.display.HTML object>"
      ]
     },
     "metadata": {},
     "output_type": "display_data"
    },
    {
     "data": {
      "text/html": [
       "<img src=\"https://lh3.googleusercontent.com/L0eK3FnMcTwZ60xzX7pCX-Ra7OGQlK_zYi3lI848rClUT2NeE41KSK7BoLKuKOkL3UexI-eYuJ_brXImSWcet-kVU_qUOmq0r92tPOoPart24qgWm6EXQJp-KxHYjJ4wFem-mO5PxDU=w300-h120\">"
      ],
      "text/plain": [
       "<IPython.core.display.HTML object>"
      ]
     },
     "metadata": {},
     "output_type": "display_data"
    },
    {
     "data": {
      "text/html": [
       "<video src=\"https://lh3.googleusercontent.com/FeM6gMXqJd6ccbNzDDaCvycR8Y56Mkm8RghKNLhZiAurP6gd43XVjAUtfjFqrBqrzfmEMKIuYLwxox5npnatW5eCk8D2LTBSlv-zsguBPZSbB23J2re-RB7LtzPGPVreYtUre783wlk=dv\" width=\"300\" autoplay  playsinline loop controls></video>"
      ],
      "text/plain": [
       "<IPython.core.display.HTML object>"
      ]
     },
     "metadata": {},
     "output_type": "display_data"
    },
    {
     "data": {
      "text/html": [
       "<img src=\"https://lh3.googleusercontent.com/JW7rxhgy2ik6qIVwENfy6WX7HcTpsFYxi-6iQrLL9iXHIsuG-2YViFyRbJHOWV3lVpsZAartfmR6E7Ayr4eSEP8fXJetfzGZIp7m8Z-UnFs-ulEx7PB5JkacYPO6_Hq873DZ7RRnOTQ=w300-h120\">"
      ],
      "text/plain": [
       "<IPython.core.display.HTML object>"
      ]
     },
     "metadata": {},
     "output_type": "display_data"
    },
    {
     "data": {
      "text/html": [
       "<img src=\"https://lh3.googleusercontent.com/9DA57tvAGpaNGY2h8gc4j94sE5edLJLpOsVNqvOhlFwWImCHC2rv7Qytfu4dLLIhbQbbgxwQQp-3zrPZHvl9lg546EjBKWepYpt-R7G3z3INRvEjX65SqFlas6MNkaNFWI97uR0Z4wg=w300-h120\">"
      ],
      "text/plain": [
       "<IPython.core.display.HTML object>"
      ]
     },
     "metadata": {},
     "output_type": "display_data"
    }
   ],
   "source": [
    "from IPython.core.display import HTML, display\n",
    "width = 300 \n",
    "height = 120\n",
    "\n",
    "for data in album_data:\n",
    "    if data['video']:\n",
    "        html = '<video src=\"'+f\"{data['base']}=dv\"+ f'\" width=\"{width}\" autoplay  playsinline loop controls></video>'\n",
    "    else:\n",
    "        html = '<img src=\"' + f\"{data['base']}=w{width}-h{height}\" + '\">'\n",
    "    display(HTML(html))"
   ]
  },
  {
   "cell_type": "code",
   "execution_count": null,
   "id": "70a4fb84",
   "metadata": {},
   "outputs": [],
   "source": []
  },
  {
   "cell_type": "code",
   "execution_count": null,
   "id": "09365030",
   "metadata": {},
   "outputs": [],
   "source": []
  }
 ],
 "metadata": {
  "kernelspec": {
   "display_name": "Python 3 (ipykernel)",
   "language": "python",
   "name": "python3"
  },
  "language_info": {
   "codemirror_mode": {
    "name": "ipython",
    "version": 3
   },
   "file_extension": ".py",
   "mimetype": "text/x-python",
   "name": "python",
   "nbconvert_exporter": "python",
   "pygments_lexer": "ipython3",
   "version": "3.9.6"
  }
 },
 "nbformat": 4,
 "nbformat_minor": 5
}
