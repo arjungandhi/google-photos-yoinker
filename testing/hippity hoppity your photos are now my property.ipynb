{
 "cells": [
  {
   "cell_type": "code",
   "execution_count": 1,
   "id": "3252d161",
   "metadata": {},
   "outputs": [],
   "source": [
    "import requests \n",
    "import re\n",
    "import json"
   ]
  },
  {
   "cell_type": "code",
   "execution_count": 2,
   "id": "5e6f51f3",
   "metadata": {},
   "outputs": [],
   "source": [
    "album_link = \"https://photos.app.goo.gl/tbHcgyWN44g9qj216\"\n",
    "video_base = 'm134?sq=0&sq_end=1'\n",
    "google_base_url = 'https://photos.google.com/share/'"
   ]
  },
  {
   "cell_type": "code",
   "execution_count": 3,
   "id": "a9c3b6bc",
   "metadata": {},
   "outputs": [],
   "source": [
    "response = requests.get(album_link)"
   ]
  },
  {
   "cell_type": "code",
   "execution_count": 4,
   "id": "fe63135d",
   "metadata": {},
   "outputs": [],
   "source": [
    "html = response.text"
   ]
  },
  {
   "cell_type": "code",
   "execution_count": 5,
   "id": "60459e96",
   "metadata": {},
   "outputs": [],
   "source": [
    "# getting linked urls\n",
    "expr = r'href=\"./share/(.[^\"]*)'\n",
    "link_urls = re.findall(expr,html)"
   ]
  },
  {
   "cell_type": "code",
   "execution_count": 6,
   "id": "e19458b7",
   "metadata": {},
   "outputs": [],
   "source": [
    "# getting photo albums\n",
    "expr = r'src=\"(.[^\"]*)'\n",
    "urls = re.findall(expr,html)[1:]"
   ]
  },
  {
   "cell_type": "code",
   "execution_count": 7,
   "id": "aa8593b5",
   "metadata": {},
   "outputs": [],
   "source": [
    "album_data = []\n",
    "for i, url in enumerate(urls): \n",
    "    split_url = url.split('=')\n",
    "    size = re.findall(r'\\d+', split_url[1])\n",
    "    \n",
    "    media = dict(base=split_url [0],\n",
    "        width=int(size[0]),\n",
    "        height=int(size[1]),\n",
    "        video=False,\n",
    "        photos_link = f'{google_base_url}{link_urls[i]}'\n",
    "                )\n",
    "    resp = requests.get(f'{media[\"base\"]}={video_base}')\n",
    "    if resp.status_code == 200:\n",
    "        media['video']=True\n",
    "        \n",
    "    album_data.append(media)  \n",
    "        "
   ]
  },
  {
   "cell_type": "code",
   "execution_count": 9,
   "id": "2515b165",
   "metadata": {},
   "outputs": [
    {
     "name": "stdout",
     "output_type": "stream",
     "text": [
      "https://photos.google.com/share/AF1QipO_vTgN91SqsggPNKly_zuKCXKIe5Wyk-Yg1ZOl6liu83dhR9pE9BI2fJB9FDWXuA/photo/AF1QipMBwScCS86lLBnGjdovLkC94EJGj0pHFN-yBEnM?key=eFQycDhfenZhOTNiZk5ScHp3UEVjSlZWX3RfZ1Bn\n",
      "<video src=\" https://photos.google.com/share/AF1QipO_vTgN91SqsggPNKly_zuKCXKIe5Wyk-Yg1ZOl6liu83dhR9pE9BI2fJB9FDWXuA/photo/AF1QipMBwScCS86lLBnGjdovLkC94EJGj0pHFN-yBEnM?key=eFQycDhfenZhOTNiZk5ScHp3UEVjSlZWX3RfZ1Bn\" width=\"108\"></video>\n"
     ]
    },
    {
     "data": {
      "text/html": [
       "<video src=\" https://photos.google.com/share/AF1QipO_vTgN91SqsggPNKly_zuKCXKIe5Wyk-Yg1ZOl6liu83dhR9pE9BI2fJB9FDWXuA/photo/AF1QipMBwScCS86lLBnGjdovLkC94EJGj0pHFN-yBEnM?key=eFQycDhfenZhOTNiZk5ScHp3UEVjSlZWX3RfZ1Bn\" width=\"108\"></video>"
      ],
      "text/plain": [
       "<IPython.core.display.HTML object>"
      ]
     },
     "metadata": {},
     "output_type": "display_data"
    },
    {
     "name": "stdout",
     "output_type": "stream",
     "text": [
      "https://photos.google.com/share/AF1QipO_vTgN91SqsggPNKly_zuKCXKIe5Wyk-Yg1ZOl6liu83dhR9pE9BI2fJB9FDWXuA/photo/AF1QipPmVyk1MzKIIouIqjYbiCrvZDOWc58F36q3i2tG?key=eFQycDhfenZhOTNiZk5ScHp3UEVjSlZWX3RfZ1Bn\n",
      "<img src=\"https://lh3.googleusercontent.com/CN4b_iUZacE9cTBo3OqYDChou-wSjeVbuGPgS7ovvg-atSxCDJFx3cg_zeJMZqm4Z_RPN7EI4JqDunrQ2F18uB3mX8iXj0DqXRTadZbjyqeJ5OEfu9RIUlUEbI7siP5OI1p_nVJ_tQ=w288-h288-no\">\n"
     ]
    },
    {
     "data": {
      "text/html": [
       "<img src=\"https://lh3.googleusercontent.com/CN4b_iUZacE9cTBo3OqYDChou-wSjeVbuGPgS7ovvg-atSxCDJFx3cg_zeJMZqm4Z_RPN7EI4JqDunrQ2F18uB3mX8iXj0DqXRTadZbjyqeJ5OEfu9RIUlUEbI7siP5OI1p_nVJ_tQ=w288-h288-no\">"
      ],
      "text/plain": [
       "<IPython.core.display.HTML object>"
      ]
     },
     "metadata": {},
     "output_type": "display_data"
    },
    {
     "name": "stdout",
     "output_type": "stream",
     "text": [
      "https://photos.google.com/share/AF1QipO_vTgN91SqsggPNKly_zuKCXKIe5Wyk-Yg1ZOl6liu83dhR9pE9BI2fJB9FDWXuA/photo/AF1QipMSWcVOr-Bon4tR_bGimKCLYsSSlNjevel8X1r6?key=eFQycDhfenZhOTNiZk5ScHp3UEVjSlZWX3RfZ1Bn\n",
      "<img src=\"https://lh3.googleusercontent.com/EjwUvUIB3jfBIpTJEITOwLz6QNyDXypdYrvy9fR9pGIrhlAK-WQicx0Sv4JeLORUIQZ77zx_BCCBn_4W1q6I8KVFHmirCneMPHENeiE0CAgafmU-TqDb7Z9tePP_8tZmgyU-FpRrDw=w162-h162-no\">\n"
     ]
    },
    {
     "data": {
      "text/html": [
       "<img src=\"https://lh3.googleusercontent.com/EjwUvUIB3jfBIpTJEITOwLz6QNyDXypdYrvy9fR9pGIrhlAK-WQicx0Sv4JeLORUIQZ77zx_BCCBn_4W1q6I8KVFHmirCneMPHENeiE0CAgafmU-TqDb7Z9tePP_8tZmgyU-FpRrDw=w162-h162-no\">"
      ],
      "text/plain": [
       "<IPython.core.display.HTML object>"
      ]
     },
     "metadata": {},
     "output_type": "display_data"
    },
    {
     "name": "stdout",
     "output_type": "stream",
     "text": [
      "https://photos.google.com/share/AF1QipO_vTgN91SqsggPNKly_zuKCXKIe5Wyk-Yg1ZOl6liu83dhR9pE9BI2fJB9FDWXuA/photo/AF1QipP9dvDjXhsrPFBYgklmFzgk5Xjt8cUw2gplpBxp?key=eFQycDhfenZhOTNiZk5ScHp3UEVjSlZWX3RfZ1Bn\n",
      "<video src=\" https://photos.google.com/share/AF1QipO_vTgN91SqsggPNKly_zuKCXKIe5Wyk-Yg1ZOl6liu83dhR9pE9BI2fJB9FDWXuA/photo/AF1QipP9dvDjXhsrPFBYgklmFzgk5Xjt8cUw2gplpBxp?key=eFQycDhfenZhOTNiZk5ScHp3UEVjSlZWX3RfZ1Bn\" width=\"114\"></video>\n"
     ]
    },
    {
     "data": {
      "text/html": [
       "<video src=\" https://photos.google.com/share/AF1QipO_vTgN91SqsggPNKly_zuKCXKIe5Wyk-Yg1ZOl6liu83dhR9pE9BI2fJB9FDWXuA/photo/AF1QipP9dvDjXhsrPFBYgklmFzgk5Xjt8cUw2gplpBxp?key=eFQycDhfenZhOTNiZk5ScHp3UEVjSlZWX3RfZ1Bn\" width=\"114\"></video>"
      ],
      "text/plain": [
       "<IPython.core.display.HTML object>"
      ]
     },
     "metadata": {},
     "output_type": "display_data"
    },
    {
     "name": "stdout",
     "output_type": "stream",
     "text": [
      "https://photos.google.com/share/AF1QipO_vTgN91SqsggPNKly_zuKCXKIe5Wyk-Yg1ZOl6liu83dhR9pE9BI2fJB9FDWXuA/photo/AF1QipMf2yzmJKrumEu96_Sog0XaatcixfpVIseZRb8r?key=eFQycDhfenZhOTNiZk5ScHp3UEVjSlZWX3RfZ1Bn\n",
      "<video src=\" https://photos.google.com/share/AF1QipO_vTgN91SqsggPNKly_zuKCXKIe5Wyk-Yg1ZOl6liu83dhR9pE9BI2fJB9FDWXuA/photo/AF1QipMf2yzmJKrumEu96_Sog0XaatcixfpVIseZRb8r?key=eFQycDhfenZhOTNiZk5ScHp3UEVjSlZWX3RfZ1Bn\" width=\"384\"></video>\n"
     ]
    },
    {
     "data": {
      "text/html": [
       "<video src=\" https://photos.google.com/share/AF1QipO_vTgN91SqsggPNKly_zuKCXKIe5Wyk-Yg1ZOl6liu83dhR9pE9BI2fJB9FDWXuA/photo/AF1QipMf2yzmJKrumEu96_Sog0XaatcixfpVIseZRb8r?key=eFQycDhfenZhOTNiZk5ScHp3UEVjSlZWX3RfZ1Bn\" width=\"384\"></video>"
      ],
      "text/plain": [
       "<IPython.core.display.HTML object>"
      ]
     },
     "metadata": {},
     "output_type": "display_data"
    },
    {
     "name": "stdout",
     "output_type": "stream",
     "text": [
      "https://photos.google.com/share/AF1QipO_vTgN91SqsggPNKly_zuKCXKIe5Wyk-Yg1ZOl6liu83dhR9pE9BI2fJB9FDWXuA/photo/AF1QipNwddzlMdAjONZI7ExymvRPR57jFnLRKwtPJbBx?key=eFQycDhfenZhOTNiZk5ScHp3UEVjSlZWX3RfZ1Bn\n",
      "<video src=\" https://photos.google.com/share/AF1QipO_vTgN91SqsggPNKly_zuKCXKIe5Wyk-Yg1ZOl6liu83dhR9pE9BI2fJB9FDWXuA/photo/AF1QipNwddzlMdAjONZI7ExymvRPR57jFnLRKwtPJbBx?key=eFQycDhfenZhOTNiZk5ScHp3UEVjSlZWX3RfZ1Bn\" width=\"384\"></video>\n"
     ]
    },
    {
     "data": {
      "text/html": [
       "<video src=\" https://photos.google.com/share/AF1QipO_vTgN91SqsggPNKly_zuKCXKIe5Wyk-Yg1ZOl6liu83dhR9pE9BI2fJB9FDWXuA/photo/AF1QipNwddzlMdAjONZI7ExymvRPR57jFnLRKwtPJbBx?key=eFQycDhfenZhOTNiZk5ScHp3UEVjSlZWX3RfZ1Bn\" width=\"384\"></video>"
      ],
      "text/plain": [
       "<IPython.core.display.HTML object>"
      ]
     },
     "metadata": {},
     "output_type": "display_data"
    },
    {
     "name": "stdout",
     "output_type": "stream",
     "text": [
      "https://photos.google.com/share/AF1QipO_vTgN91SqsggPNKly_zuKCXKIe5Wyk-Yg1ZOl6liu83dhR9pE9BI2fJB9FDWXuA/photo/AF1QipPdpe5i_DLDwT7EPHHaGt7ptmBEhi0v6twer3JT?key=eFQycDhfenZhOTNiZk5ScHp3UEVjSlZWX3RfZ1Bn\n",
      "<video src=\" https://photos.google.com/share/AF1QipO_vTgN91SqsggPNKly_zuKCXKIe5Wyk-Yg1ZOl6liu83dhR9pE9BI2fJB9FDWXuA/photo/AF1QipPdpe5i_DLDwT7EPHHaGt7ptmBEhi0v6twer3JT?key=eFQycDhfenZhOTNiZk5ScHp3UEVjSlZWX3RfZ1Bn\" width=\"384\"></video>\n"
     ]
    },
    {
     "data": {
      "text/html": [
       "<video src=\" https://photos.google.com/share/AF1QipO_vTgN91SqsggPNKly_zuKCXKIe5Wyk-Yg1ZOl6liu83dhR9pE9BI2fJB9FDWXuA/photo/AF1QipPdpe5i_DLDwT7EPHHaGt7ptmBEhi0v6twer3JT?key=eFQycDhfenZhOTNiZk5ScHp3UEVjSlZWX3RfZ1Bn\" width=\"384\"></video>"
      ],
      "text/plain": [
       "<IPython.core.display.HTML object>"
      ]
     },
     "metadata": {},
     "output_type": "display_data"
    },
    {
     "name": "stdout",
     "output_type": "stream",
     "text": [
      "https://photos.google.com/share/AF1QipO_vTgN91SqsggPNKly_zuKCXKIe5Wyk-Yg1ZOl6liu83dhR9pE9BI2fJB9FDWXuA/photo/AF1QipP7uNdrfvQxZQnXOhiAHyg-UF1o8uLG64q_AR1L?key=eFQycDhfenZhOTNiZk5ScHp3UEVjSlZWX3RfZ1Bn\n",
      "<video src=\" https://photos.google.com/share/AF1QipO_vTgN91SqsggPNKly_zuKCXKIe5Wyk-Yg1ZOl6liu83dhR9pE9BI2fJB9FDWXuA/photo/AF1QipP7uNdrfvQxZQnXOhiAHyg-UF1o8uLG64q_AR1L?key=eFQycDhfenZhOTNiZk5ScHp3UEVjSlZWX3RfZ1Bn\" width=\"384\"></video>\n"
     ]
    },
    {
     "data": {
      "text/html": [
       "<video src=\" https://photos.google.com/share/AF1QipO_vTgN91SqsggPNKly_zuKCXKIe5Wyk-Yg1ZOl6liu83dhR9pE9BI2fJB9FDWXuA/photo/AF1QipP7uNdrfvQxZQnXOhiAHyg-UF1o8uLG64q_AR1L?key=eFQycDhfenZhOTNiZk5ScHp3UEVjSlZWX3RfZ1Bn\" width=\"384\"></video>"
      ],
      "text/plain": [
       "<IPython.core.display.HTML object>"
      ]
     },
     "metadata": {},
     "output_type": "display_data"
    },
    {
     "name": "stdout",
     "output_type": "stream",
     "text": [
      "https://photos.google.com/share/AF1QipO_vTgN91SqsggPNKly_zuKCXKIe5Wyk-Yg1ZOl6liu83dhR9pE9BI2fJB9FDWXuA/photo/AF1QipOFSEMcueck4ssqkwWFk0B6TdKVnIspGf2bsz3B?key=eFQycDhfenZhOTNiZk5ScHp3UEVjSlZWX3RfZ1Bn\n",
      "<video src=\" https://photos.google.com/share/AF1QipO_vTgN91SqsggPNKly_zuKCXKIe5Wyk-Yg1ZOl6liu83dhR9pE9BI2fJB9FDWXuA/photo/AF1QipOFSEMcueck4ssqkwWFk0B6TdKVnIspGf2bsz3B?key=eFQycDhfenZhOTNiZk5ScHp3UEVjSlZWX3RfZ1Bn\" width=\"384\"></video>\n"
     ]
    },
    {
     "data": {
      "text/html": [
       "<video src=\" https://photos.google.com/share/AF1QipO_vTgN91SqsggPNKly_zuKCXKIe5Wyk-Yg1ZOl6liu83dhR9pE9BI2fJB9FDWXuA/photo/AF1QipOFSEMcueck4ssqkwWFk0B6TdKVnIspGf2bsz3B?key=eFQycDhfenZhOTNiZk5ScHp3UEVjSlZWX3RfZ1Bn\" width=\"384\"></video>"
      ],
      "text/plain": [
       "<IPython.core.display.HTML object>"
      ]
     },
     "metadata": {},
     "output_type": "display_data"
    },
    {
     "name": "stdout",
     "output_type": "stream",
     "text": [
      "https://photos.google.com/share/AF1QipO_vTgN91SqsggPNKly_zuKCXKIe5Wyk-Yg1ZOl6liu83dhR9pE9BI2fJB9FDWXuA/photo/AF1QipM9pmAU5BCxJZHYE5U0xIrWBVOXTgP9TD3XSDEP?key=eFQycDhfenZhOTNiZk5ScHp3UEVjSlZWX3RfZ1Bn\n",
      "<video src=\" https://photos.google.com/share/AF1QipO_vTgN91SqsggPNKly_zuKCXKIe5Wyk-Yg1ZOl6liu83dhR9pE9BI2fJB9FDWXuA/photo/AF1QipM9pmAU5BCxJZHYE5U0xIrWBVOXTgP9TD3XSDEP?key=eFQycDhfenZhOTNiZk5ScHp3UEVjSlZWX3RfZ1Bn\" width=\"384\"></video>\n"
     ]
    },
    {
     "data": {
      "text/html": [
       "<video src=\" https://photos.google.com/share/AF1QipO_vTgN91SqsggPNKly_zuKCXKIe5Wyk-Yg1ZOl6liu83dhR9pE9BI2fJB9FDWXuA/photo/AF1QipM9pmAU5BCxJZHYE5U0xIrWBVOXTgP9TD3XSDEP?key=eFQycDhfenZhOTNiZk5ScHp3UEVjSlZWX3RfZ1Bn\" width=\"384\"></video>"
      ],
      "text/plain": [
       "<IPython.core.display.HTML object>"
      ]
     },
     "metadata": {},
     "output_type": "display_data"
    },
    {
     "name": "stdout",
     "output_type": "stream",
     "text": [
      "https://photos.google.com/share/AF1QipO_vTgN91SqsggPNKly_zuKCXKIe5Wyk-Yg1ZOl6liu83dhR9pE9BI2fJB9FDWXuA/photo/AF1QipPoTcFgOBPm9EK9IAXgBSnudmNkX7X7Rh91Ancc?key=eFQycDhfenZhOTNiZk5ScHp3UEVjSlZWX3RfZ1Bn\n",
      "<video src=\" https://photos.google.com/share/AF1QipO_vTgN91SqsggPNKly_zuKCXKIe5Wyk-Yg1ZOl6liu83dhR9pE9BI2fJB9FDWXuA/photo/AF1QipPoTcFgOBPm9EK9IAXgBSnudmNkX7X7Rh91Ancc?key=eFQycDhfenZhOTNiZk5ScHp3UEVjSlZWX3RfZ1Bn\" width=\"384\"></video>\n"
     ]
    },
    {
     "data": {
      "text/html": [
       "<video src=\" https://photos.google.com/share/AF1QipO_vTgN91SqsggPNKly_zuKCXKIe5Wyk-Yg1ZOl6liu83dhR9pE9BI2fJB9FDWXuA/photo/AF1QipPoTcFgOBPm9EK9IAXgBSnudmNkX7X7Rh91Ancc?key=eFQycDhfenZhOTNiZk5ScHp3UEVjSlZWX3RfZ1Bn\" width=\"384\"></video>"
      ],
      "text/plain": [
       "<IPython.core.display.HTML object>"
      ]
     },
     "metadata": {},
     "output_type": "display_data"
    },
    {
     "name": "stdout",
     "output_type": "stream",
     "text": [
      "https://photos.google.com/share/AF1QipO_vTgN91SqsggPNKly_zuKCXKIe5Wyk-Yg1ZOl6liu83dhR9pE9BI2fJB9FDWXuA/photo/AF1QipOD_Az78Wfk9W4vW0QyKGfjrvmbwdSZ_RlhFxO0?key=eFQycDhfenZhOTNiZk5ScHp3UEVjSlZWX3RfZ1Bn\n",
      "<img src=\"https://lh3.googleusercontent.com/gFYUwKdcnIps1qTSA5U6KmprXvclnx9dtBiC0O29X3XMSOb76z91DHUuX83_7jZZf7Zx7IkfqVmC1FXDndFd0iM_PYHqlD4QoY-2WtQGHHYerWwwG52XdOqjlY0mlZg322x6aX0U1g=w288-h288-no\">\n"
     ]
    },
    {
     "data": {
      "text/html": [
       "<img src=\"https://lh3.googleusercontent.com/gFYUwKdcnIps1qTSA5U6KmprXvclnx9dtBiC0O29X3XMSOb76z91DHUuX83_7jZZf7Zx7IkfqVmC1FXDndFd0iM_PYHqlD4QoY-2WtQGHHYerWwwG52XdOqjlY0mlZg322x6aX0U1g=w288-h288-no\">"
      ],
      "text/plain": [
       "<IPython.core.display.HTML object>"
      ]
     },
     "metadata": {},
     "output_type": "display_data"
    },
    {
     "name": "stdout",
     "output_type": "stream",
     "text": [
      "https://photos.google.com/share/AF1QipO_vTgN91SqsggPNKly_zuKCXKIe5Wyk-Yg1ZOl6liu83dhR9pE9BI2fJB9FDWXuA/photo/AF1QipPpWasZFw8-grnAqPXYGVLWGGD9RBUjOpUxPmOY?key=eFQycDhfenZhOTNiZk5ScHp3UEVjSlZWX3RfZ1Bn\n",
      "<img src=\"https://lh3.googleusercontent.com/24CzLNz7vG0fZW-1M8l238RRYJoExO2MXzC0FtOKL-TL5AgkH2YCuo150koEQ71hmpqy7FM3FYTFmDmIzZDvAzHryoR6n7mdWohWiWOjnP3C3Gh06-pE5Te-xdCJW3ddNU7km0xDkA=w288-h288-no\">\n"
     ]
    },
    {
     "data": {
      "text/html": [
       "<img src=\"https://lh3.googleusercontent.com/24CzLNz7vG0fZW-1M8l238RRYJoExO2MXzC0FtOKL-TL5AgkH2YCuo150koEQ71hmpqy7FM3FYTFmDmIzZDvAzHryoR6n7mdWohWiWOjnP3C3Gh06-pE5Te-xdCJW3ddNU7km0xDkA=w288-h288-no\">"
      ],
      "text/plain": [
       "<IPython.core.display.HTML object>"
      ]
     },
     "metadata": {},
     "output_type": "display_data"
    },
    {
     "name": "stdout",
     "output_type": "stream",
     "text": [
      "https://photos.google.com/share/AF1QipO_vTgN91SqsggPNKly_zuKCXKIe5Wyk-Yg1ZOl6liu83dhR9pE9BI2fJB9FDWXuA/photo/AF1QipNzMGUfsMeV9Lu1sSIAOIYSQFTrbXOcpEqAgZi0?key=eFQycDhfenZhOTNiZk5ScHp3UEVjSlZWX3RfZ1Bn\n",
      "<img src=\"https://lh3.googleusercontent.com/YBIOYqdWa3CUDxhews0aSeWdQsJscblR0fZtwSO-Hx6IzD3ZWkiysyxS3wYeqEKg7ZVoLAeKDhJ_IieaL8X_ZECCN-NXYIVgjuIaS72OdnlZ2mRihbUEqlvR600cNA8S3nMGzXhV1Q=w288-h288-no\">\n"
     ]
    },
    {
     "data": {
      "text/html": [
       "<img src=\"https://lh3.googleusercontent.com/YBIOYqdWa3CUDxhews0aSeWdQsJscblR0fZtwSO-Hx6IzD3ZWkiysyxS3wYeqEKg7ZVoLAeKDhJ_IieaL8X_ZECCN-NXYIVgjuIaS72OdnlZ2mRihbUEqlvR600cNA8S3nMGzXhV1Q=w288-h288-no\">"
      ],
      "text/plain": [
       "<IPython.core.display.HTML object>"
      ]
     },
     "metadata": {},
     "output_type": "display_data"
    },
    {
     "name": "stdout",
     "output_type": "stream",
     "text": [
      "https://photos.google.com/share/AF1QipO_vTgN91SqsggPNKly_zuKCXKIe5Wyk-Yg1ZOl6liu83dhR9pE9BI2fJB9FDWXuA/photo/AF1QipOnUhODWunzZ9sfxXZUF9uuAyUhA-Fa3cNr9ilS?key=eFQycDhfenZhOTNiZk5ScHp3UEVjSlZWX3RfZ1Bn\n",
      "<img src=\"https://lh3.googleusercontent.com/3l7UhHCT1jrOssd5iWsKPxpKTZvsedqZUEYbHxCKJbCboKnYQbkU6wwrIR1v1bVGc7ALISdTkUf4uA0uum88HhxklMaFnPKN5KejMiBeOqKhqwkZ7al8_JiNphW6mvjxdxMN8gaXHg=w288-h288-no\">\n"
     ]
    },
    {
     "data": {
      "text/html": [
       "<img src=\"https://lh3.googleusercontent.com/3l7UhHCT1jrOssd5iWsKPxpKTZvsedqZUEYbHxCKJbCboKnYQbkU6wwrIR1v1bVGc7ALISdTkUf4uA0uum88HhxklMaFnPKN5KejMiBeOqKhqwkZ7al8_JiNphW6mvjxdxMN8gaXHg=w288-h288-no\">"
      ],
      "text/plain": [
       "<IPython.core.display.HTML object>"
      ]
     },
     "metadata": {},
     "output_type": "display_data"
    },
    {
     "name": "stdout",
     "output_type": "stream",
     "text": [
      "https://photos.google.com/share/AF1QipO_vTgN91SqsggPNKly_zuKCXKIe5Wyk-Yg1ZOl6liu83dhR9pE9BI2fJB9FDWXuA/photo/AF1QipNKzxzCjcmOoLMgXqHhOAm7QXxNWSMKm5_10lfD?key=eFQycDhfenZhOTNiZk5ScHp3UEVjSlZWX3RfZ1Bn\n",
      "<video src=\" https://photos.google.com/share/AF1QipO_vTgN91SqsggPNKly_zuKCXKIe5Wyk-Yg1ZOl6liu83dhR9pE9BI2fJB9FDWXuA/photo/AF1QipNKzxzCjcmOoLMgXqHhOAm7QXxNWSMKm5_10lfD?key=eFQycDhfenZhOTNiZk5ScHp3UEVjSlZWX3RfZ1Bn\" width=\"384\"></video>\n"
     ]
    },
    {
     "data": {
      "text/html": [
       "<video src=\" https://photos.google.com/share/AF1QipO_vTgN91SqsggPNKly_zuKCXKIe5Wyk-Yg1ZOl6liu83dhR9pE9BI2fJB9FDWXuA/photo/AF1QipNKzxzCjcmOoLMgXqHhOAm7QXxNWSMKm5_10lfD?key=eFQycDhfenZhOTNiZk5ScHp3UEVjSlZWX3RfZ1Bn\" width=\"384\"></video>"
      ],
      "text/plain": [
       "<IPython.core.display.HTML object>"
      ]
     },
     "metadata": {},
     "output_type": "display_data"
    },
    {
     "name": "stdout",
     "output_type": "stream",
     "text": [
      "https://photos.google.com/share/AF1QipO_vTgN91SqsggPNKly_zuKCXKIe5Wyk-Yg1ZOl6liu83dhR9pE9BI2fJB9FDWXuA/photo/AF1QipMkZhOu6J27690v2M11mO-WBwOeE3f4Y-Kq4Ppc?key=eFQycDhfenZhOTNiZk5ScHp3UEVjSlZWX3RfZ1Bn\n",
      "<video src=\" https://photos.google.com/share/AF1QipO_vTgN91SqsggPNKly_zuKCXKIe5Wyk-Yg1ZOl6liu83dhR9pE9BI2fJB9FDWXuA/photo/AF1QipMkZhOu6J27690v2M11mO-WBwOeE3f4Y-Kq4Ppc?key=eFQycDhfenZhOTNiZk5ScHp3UEVjSlZWX3RfZ1Bn\" width=\"384\"></video>\n"
     ]
    },
    {
     "data": {
      "text/html": [
       "<video src=\" https://photos.google.com/share/AF1QipO_vTgN91SqsggPNKly_zuKCXKIe5Wyk-Yg1ZOl6liu83dhR9pE9BI2fJB9FDWXuA/photo/AF1QipMkZhOu6J27690v2M11mO-WBwOeE3f4Y-Kq4Ppc?key=eFQycDhfenZhOTNiZk5ScHp3UEVjSlZWX3RfZ1Bn\" width=\"384\"></video>"
      ],
      "text/plain": [
       "<IPython.core.display.HTML object>"
      ]
     },
     "metadata": {},
     "output_type": "display_data"
    },
    {
     "name": "stdout",
     "output_type": "stream",
     "text": [
      "https://photos.google.com/share/AF1QipO_vTgN91SqsggPNKly_zuKCXKIe5Wyk-Yg1ZOl6liu83dhR9pE9BI2fJB9FDWXuA/photo/AF1QipO3JjfNsIm9eEYgH3QuH0gK5mHrMDIlLdop3IJx?key=eFQycDhfenZhOTNiZk5ScHp3UEVjSlZWX3RfZ1Bn\n",
      "<img src=\"https://lh3.googleusercontent.com/FRkF_z3GhYs6xUNAh5Yw6gjyZsb-S7IygcUlNkdiJVfI5chz5aVaPpyGLtuRJqFXlFDXoJP9tkZUklhvsWKKkQNya7w6QDZA8xyn4PaeEJMqHmhPkdbamfg6I5rcZ26lBz7dnhOq8Q=w384-h384-no\">\n"
     ]
    },
    {
     "data": {
      "text/html": [
       "<img src=\"https://lh3.googleusercontent.com/FRkF_z3GhYs6xUNAh5Yw6gjyZsb-S7IygcUlNkdiJVfI5chz5aVaPpyGLtuRJqFXlFDXoJP9tkZUklhvsWKKkQNya7w6QDZA8xyn4PaeEJMqHmhPkdbamfg6I5rcZ26lBz7dnhOq8Q=w384-h384-no\">"
      ],
      "text/plain": [
       "<IPython.core.display.HTML object>"
      ]
     },
     "metadata": {},
     "output_type": "display_data"
    },
    {
     "name": "stdout",
     "output_type": "stream",
     "text": [
      "https://photos.google.com/share/AF1QipO_vTgN91SqsggPNKly_zuKCXKIe5Wyk-Yg1ZOl6liu83dhR9pE9BI2fJB9FDWXuA/photo/AF1QipOW-JFAJmY_uX8nTzUJyjcTAQ-H3VA860qMTTxe?key=eFQycDhfenZhOTNiZk5ScHp3UEVjSlZWX3RfZ1Bn\n",
      "<img src=\"https://lh3.googleusercontent.com/8IE_mqDwV_7YGFfPfJngLWXjBot8tpLGPZevFxCXnNYwVtKJfnjamOT8Zgkv2rRlkG08Yn3KkgHLeIkKFEPjVhh78r5XWLZMeCywsZtnYkpzEsGnGZ8YCkWhXuIOhQd6NCMQJDjmNw=w378-h378-no\">\n"
     ]
    },
    {
     "data": {
      "text/html": [
       "<img src=\"https://lh3.googleusercontent.com/8IE_mqDwV_7YGFfPfJngLWXjBot8tpLGPZevFxCXnNYwVtKJfnjamOT8Zgkv2rRlkG08Yn3KkgHLeIkKFEPjVhh78r5XWLZMeCywsZtnYkpzEsGnGZ8YCkWhXuIOhQd6NCMQJDjmNw=w378-h378-no\">"
      ],
      "text/plain": [
       "<IPython.core.display.HTML object>"
      ]
     },
     "metadata": {},
     "output_type": "display_data"
    },
    {
     "name": "stdout",
     "output_type": "stream",
     "text": [
      "https://photos.google.com/share/AF1QipO_vTgN91SqsggPNKly_zuKCXKIe5Wyk-Yg1ZOl6liu83dhR9pE9BI2fJB9FDWXuA/photo/AF1QipNycU7RpS34pk_eVV0T0JhkaiXZd2DHVjs64yp0?key=eFQycDhfenZhOTNiZk5ScHp3UEVjSlZWX3RfZ1Bn\n",
      "<img src=\"https://lh3.googleusercontent.com/H8k3pj_tuT_VUnaeOyF5u-VCGsLwWh04XD7EnE6kfAcfr3vFkcaI1dT3q2sAVQwEJSFbFadDScyCBdQiBHZaUe7JJQJmKHKNMAIFyzlWLCPq_3wactYUBrEm-8nHJKQiOHuL4rA-9Q=w492-h492-no\">\n"
     ]
    },
    {
     "data": {
      "text/html": [
       "<img src=\"https://lh3.googleusercontent.com/H8k3pj_tuT_VUnaeOyF5u-VCGsLwWh04XD7EnE6kfAcfr3vFkcaI1dT3q2sAVQwEJSFbFadDScyCBdQiBHZaUe7JJQJmKHKNMAIFyzlWLCPq_3wactYUBrEm-8nHJKQiOHuL4rA-9Q=w492-h492-no\">"
      ],
      "text/plain": [
       "<IPython.core.display.HTML object>"
      ]
     },
     "metadata": {},
     "output_type": "display_data"
    },
    {
     "name": "stdout",
     "output_type": "stream",
     "text": [
      "https://photos.google.com/share/AF1QipO_vTgN91SqsggPNKly_zuKCXKIe5Wyk-Yg1ZOl6liu83dhR9pE9BI2fJB9FDWXuA/photo/AF1QipMNLKgM4_o4cdA7A3kWuZIWzb71jOQkjmbs1d1h?key=eFQycDhfenZhOTNiZk5ScHp3UEVjSlZWX3RfZ1Bn\n",
      "<img src=\"https://lh3.googleusercontent.com/UpmQDsRrdD-H3j1rEDB36f1WrgcePUvXVqWxw4Hk4gX3uFDiTcdxM2W3A13ZlTrIaFJzOB0jRJwfe0u38S0y8OAQaecB50GhUq8iKRKZLmJhmo_7hYAXI-v5n-0uEagSzgYxnoc1tw=w321-h321-no\">\n"
     ]
    },
    {
     "data": {
      "text/html": [
       "<img src=\"https://lh3.googleusercontent.com/UpmQDsRrdD-H3j1rEDB36f1WrgcePUvXVqWxw4Hk4gX3uFDiTcdxM2W3A13ZlTrIaFJzOB0jRJwfe0u38S0y8OAQaecB50GhUq8iKRKZLmJhmo_7hYAXI-v5n-0uEagSzgYxnoc1tw=w321-h321-no\">"
      ],
      "text/plain": [
       "<IPython.core.display.HTML object>"
      ]
     },
     "metadata": {},
     "output_type": "display_data"
    },
    {
     "name": "stdout",
     "output_type": "stream",
     "text": [
      "https://photos.google.com/share/AF1QipO_vTgN91SqsggPNKly_zuKCXKIe5Wyk-Yg1ZOl6liu83dhR9pE9BI2fJB9FDWXuA/photo/AF1QipPFFq6BrSCDktPk-X1bDi8RsLD0qv3LayDEoyAl?key=eFQycDhfenZhOTNiZk5ScHp3UEVjSlZWX3RfZ1Bn\n",
      "<img src=\"https://lh3.googleusercontent.com/y8-T34hRgtui-_4XM-uIOWyEC4_QeWv6R-Ts1OWQRIYk1ZifXtfQkTt4HabS5IS3ikUB1Pp4Li-fVBOy-I-QHQI5FI1vDSD9q85c6gcfPr9NJ2qX9nOpUKNqqsxSYtDJVBluw3DMOg=w345-h345-no\">\n"
     ]
    },
    {
     "data": {
      "text/html": [
       "<img src=\"https://lh3.googleusercontent.com/y8-T34hRgtui-_4XM-uIOWyEC4_QeWv6R-Ts1OWQRIYk1ZifXtfQkTt4HabS5IS3ikUB1Pp4Li-fVBOy-I-QHQI5FI1vDSD9q85c6gcfPr9NJ2qX9nOpUKNqqsxSYtDJVBluw3DMOg=w345-h345-no\">"
      ],
      "text/plain": [
       "<IPython.core.display.HTML object>"
      ]
     },
     "metadata": {},
     "output_type": "display_data"
    },
    {
     "name": "stdout",
     "output_type": "stream",
     "text": [
      "https://photos.google.com/share/AF1QipO_vTgN91SqsggPNKly_zuKCXKIe5Wyk-Yg1ZOl6liu83dhR9pE9BI2fJB9FDWXuA/photo/AF1QipNC0RfUfUAhdG1H3dfu8N3SjftegBk3V1NkvXCG?key=eFQycDhfenZhOTNiZk5ScHp3UEVjSlZWX3RfZ1Bn\n",
      "<img src=\"https://lh3.googleusercontent.com/jT4tPaEV4pbWvW6kMEeu9x5QVMxAqx2tul6gh_oAdNr8z9vFt_zNTg6GV6qNmymN4XiN03uuHIXx2-n2qSWjCtra-bm9aBGXm9-EDyvWR10pg6HkaAOQW1DBSAn6-_oJqVedztkyKw=w162-h162-no\">\n"
     ]
    },
    {
     "data": {
      "text/html": [
       "<img src=\"https://lh3.googleusercontent.com/jT4tPaEV4pbWvW6kMEeu9x5QVMxAqx2tul6gh_oAdNr8z9vFt_zNTg6GV6qNmymN4XiN03uuHIXx2-n2qSWjCtra-bm9aBGXm9-EDyvWR10pg6HkaAOQW1DBSAn6-_oJqVedztkyKw=w162-h162-no\">"
      ],
      "text/plain": [
       "<IPython.core.display.HTML object>"
      ]
     },
     "metadata": {},
     "output_type": "display_data"
    }
   ],
   "source": [
    "from IPython.core.display import HTML, display\n",
    "scale = 3\n",
    "\n",
    "for data in album_data:\n",
    "    if data['video']:\n",
    "        html = '<video src=\" '+f\"{data['photos_link']}\"+ '\" width=\"' + str(data['width']*scale) +'\"></video>'\n",
    "    else:\n",
    "        html = '<img src=\"' + f\"{data['base']}=w{data['width']*scale}-h{data['width']*scale}-no\" +  '\">'\n",
    "    print(data['photos_link'])\n",
    "    print(html)\n",
    "    display(HTML(html))"
   ]
  },
  {
   "cell_type": "code",
   "execution_count": null,
   "id": "aeac846c",
   "metadata": {},
   "outputs": [],
   "source": []
  }
 ],
 "metadata": {
  "kernelspec": {
   "display_name": "Python 3 (ipykernel)",
   "language": "python",
   "name": "python3"
  },
  "language_info": {
   "codemirror_mode": {
    "name": "ipython",
    "version": 3
   },
   "file_extension": ".py",
   "mimetype": "text/x-python",
   "name": "python",
   "nbconvert_exporter": "python",
   "pygments_lexer": "ipython3",
   "version": "3.9.6"
  }
 },
 "nbformat": 4,
 "nbformat_minor": 5
}
