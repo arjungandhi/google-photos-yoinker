{
 "cells": [
  {
   "cell_type": "code",
   "execution_count": 1,
   "id": "3252d161",
   "metadata": {},
   "outputs": [],
   "source": [
    "import requests \n",
    "import re\n",
    "import json"
   ]
  },
  {
   "cell_type": "code",
   "execution_count": 2,
   "id": "5e6f51f3",
   "metadata": {},
   "outputs": [],
   "source": [
    "album_link = \"https://photos.app.goo.gl/tbHcgyWN44g9qj216\"\n",
    "video_base = 'm134?sq=0&sq_end=1'\n",
    "google_base_url = 'https://photos.google.com/share/'"
   ]
  },
  {
   "cell_type": "code",
   "execution_count": 3,
   "id": "a9c3b6bc",
   "metadata": {},
   "outputs": [],
   "source": [
    "response = requests.get(album_link)"
   ]
  },
  {
   "cell_type": "code",
   "execution_count": 4,
   "id": "fe63135d",
   "metadata": {},
   "outputs": [],
   "source": [
    "html = response.text"
   ]
  },
  {
   "cell_type": "code",
   "execution_count": 5,
   "id": "e19458b7",
   "metadata": {},
   "outputs": [],
   "source": [
    "# getting photo albums\n",
    "expr = r'src=\"(.[^\"]*)'\n",
    "urls = re.findall(expr,html)"
   ]
  },
  {
   "cell_type": "code",
   "execution_count": 6,
   "id": "aa8593b5",
   "metadata": {},
   "outputs": [],
   "source": [
    "album_data = []\n",
    "for i, url in enumerate(urls): \n",
    "    if '=s' not in url:\n",
    "        split_url = url.split('=')\n",
    "        size = re.findall(r'\\d+', split_url[1])\n",
    "\n",
    "        media = dict(base=split_url [0],\n",
    "            video=False,\n",
    "                )\n",
    "        resp = requests.get(f'{media[\"base\"]}=dv')\n",
    "        if resp.status_code == 200:\n",
    "            media['video']=True\n",
    "\n",
    "        album_data.append(media)  \n",
    "        "
   ]
  },
  {
   "cell_type": "code",
   "execution_count": 7,
   "id": "2515b165",
   "metadata": {},
   "outputs": [
    {
     "data": {
      "text/html": [
       "<video src=\"https://lh3.googleusercontent.com/FIngaun0hE3O9TEa9xmpmaj--aYlbDZeGIUD6C5Kwb2nHCUh1UPCpzMkGbW5KiS-b3SBDD70YF2ZkzaDJuzm7r39--gxgOHB2d4tNx9Z-odTS6iKBOQ7vtuC-jxGlcUNWhcOmadezw=dv\" width=\"300\" autoplay  playsinline loop controls></video>"
      ],
      "text/plain": [
       "<IPython.core.display.HTML object>"
      ]
     },
     "metadata": {},
     "output_type": "display_data"
    },
    {
     "data": {
      "text/html": [
       "<img src=\"https://lh3.googleusercontent.com/CN4b_iUZacE9cTBo3OqYDChou-wSjeVbuGPgS7ovvg-atSxCDJFx3cg_zeJMZqm4Z_RPN7EI4JqDunrQ2F18uB3mX8iXj0DqXRTadZbjyqeJ5OEfu9RIUlUEbI7siP5OI1p_nVJ_tQ=w300-h120\">"
      ],
      "text/plain": [
       "<IPython.core.display.HTML object>"
      ]
     },
     "metadata": {},
     "output_type": "display_data"
    },
    {
     "data": {
      "text/html": [
       "<img src=\"https://lh3.googleusercontent.com/EjwUvUIB3jfBIpTJEITOwLz6QNyDXypdYrvy9fR9pGIrhlAK-WQicx0Sv4JeLORUIQZ77zx_BCCBn_4W1q6I8KVFHmirCneMPHENeiE0CAgafmU-TqDb7Z9tePP_8tZmgyU-FpRrDw=w300-h120\">"
      ],
      "text/plain": [
       "<IPython.core.display.HTML object>"
      ]
     },
     "metadata": {},
     "output_type": "display_data"
    },
    {
     "data": {
      "text/html": [
       "<video src=\"https://lh3.googleusercontent.com/FCN-_Wnrr1IULU5155t-VgafPByhVMhH52qrXnP3aNEuc1KQzPWP_VSsqKLY1eZ2QKVFJALscrttNmAUd1YkqjFGQ2pa74CsaLiePKgdx6AskvIcsM-QVAR8NVxMt1xTBCz5o2bmvA=dv\" width=\"300\" autoplay  playsinline loop controls></video>"
      ],
      "text/plain": [
       "<IPython.core.display.HTML object>"
      ]
     },
     "metadata": {},
     "output_type": "display_data"
    },
    {
     "data": {
      "text/html": [
       "<video src=\"https://lh3.googleusercontent.com/xBxDY2_FUuEpT2U_KQvvQ4Invc4GdmhLmA6hwCHLQL5PFKdUj7Al2Xtvl6J1YCSLrLSSgd5jgwLrKxnfPmJHJHxGdEyqnjk6U0Q9HCpvPavJtsNKdCsayZdAb0PGfp51imEOpRo89A=dv\" width=\"300\" autoplay  playsinline loop controls></video>"
      ],
      "text/plain": [
       "<IPython.core.display.HTML object>"
      ]
     },
     "metadata": {},
     "output_type": "display_data"
    },
    {
     "data": {
      "text/html": [
       "<video src=\"https://lh3.googleusercontent.com/NKSifwa7p4Ykleg-IRfPuqcycg4Y2mn-F45tGAiz6t7dTsiuIbLeIZuSl_IoAye1JldSirAsFLQnkbKeVwlL-rF-Z8SQbPPrWjfIP2WzkbQlf6Fn8gZlC7u0aYTaJDHM8A1NC0Mebg=dv\" width=\"300\" autoplay  playsinline loop controls></video>"
      ],
      "text/plain": [
       "<IPython.core.display.HTML object>"
      ]
     },
     "metadata": {},
     "output_type": "display_data"
    },
    {
     "data": {
      "text/html": [
       "<video src=\"https://lh3.googleusercontent.com/gPnj9ZkgPuBG10QTTb9dx9qFXVjCYx_1vj26bEObASDS4t6GllAATZSE4e5ZCS8aM2ujXGQBk8_dfACTOD4uXyBGQjn6ZLMiDzYgs_huu3oG7AsiBVUhdfTljahxPwGa0HTTiLIy5A=dv\" width=\"300\" autoplay  playsinline loop controls></video>"
      ],
      "text/plain": [
       "<IPython.core.display.HTML object>"
      ]
     },
     "metadata": {},
     "output_type": "display_data"
    },
    {
     "data": {
      "text/html": [
       "<video src=\"https://lh3.googleusercontent.com/1juhcA2sHP2u78cnnq23QqMDqgcKhQ-aNTR2NCbBFioFWWx_PQ2IikiKMZjZaotNKohdQ3FcdT9fsSF6DnlZNCG6ciM_lxHntpqKRoYSfzmqZ-1yasFQeNKc2hUp93hO5fSDCy9MDw=dv\" width=\"300\" autoplay  playsinline loop controls></video>"
      ],
      "text/plain": [
       "<IPython.core.display.HTML object>"
      ]
     },
     "metadata": {},
     "output_type": "display_data"
    },
    {
     "data": {
      "text/html": [
       "<video src=\"https://lh3.googleusercontent.com/baq-Ch_8E0KvvbrzhTcyhyS64gW1PsJeyC6qUW0COfm-LyS1GQPB8chI_eaKbSegoM8seK9dFBOw1x9Mu0M9c6maMmSW_Zd0hlS86VyUSs0ZXpnIH1Juehe0gJHEFxKAXQrzY4Tpbw=dv\" width=\"300\" autoplay  playsinline loop controls></video>"
      ],
      "text/plain": [
       "<IPython.core.display.HTML object>"
      ]
     },
     "metadata": {},
     "output_type": "display_data"
    },
    {
     "data": {
      "text/html": [
       "<video src=\"https://lh3.googleusercontent.com/fdf5nRhydLo8bBh5QzEpDMsMgNejI7AXyz-lV-sS8ZSBfbUjAKzuJzzv5ileGtxGkFdCy4S-bcBB7D3uK3x6CIw3b7Kebe257jkkDfEjNsXH_352kxH5hs8JOl8hYRUUsm3q1_yUhg=dv\" width=\"300\" autoplay  playsinline loop controls></video>"
      ],
      "text/plain": [
       "<IPython.core.display.HTML object>"
      ]
     },
     "metadata": {},
     "output_type": "display_data"
    },
    {
     "data": {
      "text/html": [
       "<video src=\"https://lh3.googleusercontent.com/QklzK6hpzMTleLUsHacT2KnoX-NJ7Ua6AmIaSZueVLkKiu69g41hnyLv846oGYgu8hPywINl85NsCpSUXFt8CakCbgb_8eA9GCYzRXDKdJaJPeQ_t37W2zdpWnoY0gcVsuKhjqgJsA=dv\" width=\"300\" autoplay  playsinline loop controls></video>"
      ],
      "text/plain": [
       "<IPython.core.display.HTML object>"
      ]
     },
     "metadata": {},
     "output_type": "display_data"
    },
    {
     "data": {
      "text/html": [
       "<video src=\"https://lh3.googleusercontent.com/gFYUwKdcnIps1qTSA5U6KmprXvclnx9dtBiC0O29X3XMSOb76z91DHUuX83_7jZZf7Zx7IkfqVmC1FXDndFd0iM_PYHqlD4QoY-2WtQGHHYerWwwG52XdOqjlY0mlZg322x6aX0U1g=dv\" width=\"300\" autoplay  playsinline loop controls></video>"
      ],
      "text/plain": [
       "<IPython.core.display.HTML object>"
      ]
     },
     "metadata": {},
     "output_type": "display_data"
    },
    {
     "data": {
      "text/html": [
       "<video src=\"https://lh3.googleusercontent.com/24CzLNz7vG0fZW-1M8l238RRYJoExO2MXzC0FtOKL-TL5AgkH2YCuo150koEQ71hmpqy7FM3FYTFmDmIzZDvAzHryoR6n7mdWohWiWOjnP3C3Gh06-pE5Te-xdCJW3ddNU7km0xDkA=dv\" width=\"300\" autoplay  playsinline loop controls></video>"
      ],
      "text/plain": [
       "<IPython.core.display.HTML object>"
      ]
     },
     "metadata": {},
     "output_type": "display_data"
    },
    {
     "data": {
      "text/html": [
       "<video src=\"https://lh3.googleusercontent.com/YBIOYqdWa3CUDxhews0aSeWdQsJscblR0fZtwSO-Hx6IzD3ZWkiysyxS3wYeqEKg7ZVoLAeKDhJ_IieaL8X_ZECCN-NXYIVgjuIaS72OdnlZ2mRihbUEqlvR600cNA8S3nMGzXhV1Q=dv\" width=\"300\" autoplay  playsinline loop controls></video>"
      ],
      "text/plain": [
       "<IPython.core.display.HTML object>"
      ]
     },
     "metadata": {},
     "output_type": "display_data"
    },
    {
     "data": {
      "text/html": [
       "<video src=\"https://lh3.googleusercontent.com/3l7UhHCT1jrOssd5iWsKPxpKTZvsedqZUEYbHxCKJbCboKnYQbkU6wwrIR1v1bVGc7ALISdTkUf4uA0uum88HhxklMaFnPKN5KejMiBeOqKhqwkZ7al8_JiNphW6mvjxdxMN8gaXHg=dv\" width=\"300\" autoplay  playsinline loop controls></video>"
      ],
      "text/plain": [
       "<IPython.core.display.HTML object>"
      ]
     },
     "metadata": {},
     "output_type": "display_data"
    },
    {
     "data": {
      "text/html": [
       "<video src=\"https://lh3.googleusercontent.com/16YhpnFDPDi6LqibXEdX-opceJPOHz9jJ6nmnIJbbfF1WlLYmXn2TaeUR8lWDLRk0HXk0X1xaJUFk9hMiFekYsxc6L-AOvqoR1X_yoprWECIflVvfmmSOYHVIoqxUG4EadBcNz2WaQ=dv\" width=\"300\" autoplay  playsinline loop controls></video>"
      ],
      "text/plain": [
       "<IPython.core.display.HTML object>"
      ]
     },
     "metadata": {},
     "output_type": "display_data"
    },
    {
     "data": {
      "text/html": [
       "<video src=\"https://lh3.googleusercontent.com/kasV9HJ_FYxwWhcB6VjwgGAYHsTVn6pVDJBIvyWSCbEbRPIrBnJQIJ0M6Oik34GLWFvWbgGWXAve9mkGntttAGMiWsRJg2no794O5cnX_7Afs11kWLIeBtpaBEfn8jgieOPAXByOlA=dv\" width=\"300\" autoplay  playsinline loop controls></video>"
      ],
      "text/plain": [
       "<IPython.core.display.HTML object>"
      ]
     },
     "metadata": {},
     "output_type": "display_data"
    },
    {
     "data": {
      "text/html": [
       "<img src=\"https://lh3.googleusercontent.com/FRkF_z3GhYs6xUNAh5Yw6gjyZsb-S7IygcUlNkdiJVfI5chz5aVaPpyGLtuRJqFXlFDXoJP9tkZUklhvsWKKkQNya7w6QDZA8xyn4PaeEJMqHmhPkdbamfg6I5rcZ26lBz7dnhOq8Q=w300-h120\">"
      ],
      "text/plain": [
       "<IPython.core.display.HTML object>"
      ]
     },
     "metadata": {},
     "output_type": "display_data"
    },
    {
     "data": {
      "text/html": [
       "<img src=\"https://lh3.googleusercontent.com/8IE_mqDwV_7YGFfPfJngLWXjBot8tpLGPZevFxCXnNYwVtKJfnjamOT8Zgkv2rRlkG08Yn3KkgHLeIkKFEPjVhh78r5XWLZMeCywsZtnYkpzEsGnGZ8YCkWhXuIOhQd6NCMQJDjmNw=w300-h120\">"
      ],
      "text/plain": [
       "<IPython.core.display.HTML object>"
      ]
     },
     "metadata": {},
     "output_type": "display_data"
    },
    {
     "data": {
      "text/html": [
       "<img src=\"https://lh3.googleusercontent.com/H8k3pj_tuT_VUnaeOyF5u-VCGsLwWh04XD7EnE6kfAcfr3vFkcaI1dT3q2sAVQwEJSFbFadDScyCBdQiBHZaUe7JJQJmKHKNMAIFyzlWLCPq_3wactYUBrEm-8nHJKQiOHuL4rA-9Q=w300-h120\">"
      ],
      "text/plain": [
       "<IPython.core.display.HTML object>"
      ]
     },
     "metadata": {},
     "output_type": "display_data"
    },
    {
     "data": {
      "text/html": [
       "<img src=\"https://lh3.googleusercontent.com/UpmQDsRrdD-H3j1rEDB36f1WrgcePUvXVqWxw4Hk4gX3uFDiTcdxM2W3A13ZlTrIaFJzOB0jRJwfe0u38S0y8OAQaecB50GhUq8iKRKZLmJhmo_7hYAXI-v5n-0uEagSzgYxnoc1tw=w300-h120\">"
      ],
      "text/plain": [
       "<IPython.core.display.HTML object>"
      ]
     },
     "metadata": {},
     "output_type": "display_data"
    },
    {
     "data": {
      "text/html": [
       "<img src=\"https://lh3.googleusercontent.com/y8-T34hRgtui-_4XM-uIOWyEC4_QeWv6R-Ts1OWQRIYk1ZifXtfQkTt4HabS5IS3ikUB1Pp4Li-fVBOy-I-QHQI5FI1vDSD9q85c6gcfPr9NJ2qX9nOpUKNqqsxSYtDJVBluw3DMOg=w300-h120\">"
      ],
      "text/plain": [
       "<IPython.core.display.HTML object>"
      ]
     },
     "metadata": {},
     "output_type": "display_data"
    },
    {
     "data": {
      "text/html": [
       "<img src=\"https://lh3.googleusercontent.com/jT4tPaEV4pbWvW6kMEeu9x5QVMxAqx2tul6gh_oAdNr8z9vFt_zNTg6GV6qNmymN4XiN03uuHIXx2-n2qSWjCtra-bm9aBGXm9-EDyvWR10pg6HkaAOQW1DBSAn6-_oJqVedztkyKw=w300-h120\">"
      ],
      "text/plain": [
       "<IPython.core.display.HTML object>"
      ]
     },
     "metadata": {},
     "output_type": "display_data"
    }
   ],
   "source": [
    "from IPython.core.display import HTML, display\n",
    "width = 300 \n",
    "height = 120\n",
    "\n",
    "for data in album_data:\n",
    "    if data['video']:\n",
    "        html = '<video src=\"'+f\"{data['base']}=dv\"+ f'\" width=\"{width}\" autoplay  playsinline loop controls></video>'\n",
    "    else:\n",
    "        html = '<img src=\"' + f\"{data['base']}=w{width}-h{height}\" + '\">'\n",
    "    display(HTML(html))"
   ]
  }
 ],
 "metadata": {
  "kernelspec": {
   "display_name": "Python 3 (ipykernel)",
   "language": "python",
   "name": "python3"
  },
  "language_info": {
   "codemirror_mode": {
    "name": "ipython",
    "version": 3
   },
   "file_extension": ".py",
   "mimetype": "text/x-python",
   "name": "python",
   "nbconvert_exporter": "python",
   "pygments_lexer": "ipython3",
   "version": "3.9.6"
  }
 },
 "nbformat": 4,
 "nbformat_minor": 5
}
